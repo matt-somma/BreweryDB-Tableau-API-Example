{
 "cells": [
  {
   "cell_type": "code",
   "execution_count": 69,
   "metadata": {
    "scrolled": true
   },
   "outputs": [
    {
     "name": "stderr",
     "output_type": "stream",
     "text": [
      "processing table: 42it [00:00, 1550.12it/s]\n"
     ]
    },
    {
     "name": "stdout",
     "output_type": "stream",
     "text": [
      "[('Breweries in America', 'fcf8d4e0-8028-41e4-96f2-50902996f669')]\n",
      "Brewery DB published with id: 52e3ae17-0e5c-4a08-a074-ec3f47ec425c\n"
     ]
    }
   ],
   "source": [
    "import requests\n",
    "import json\n",
    "import pandas as pd\n",
    "import tableauserverclient as TSC\n",
    "from pandleau import *\n",
    "\n",
    "r = requests.get(url = 'https://sandbox-api.brewerydb.com/v2/locations',\n",
    "                params = {'key':'Your-Key-Here'})\n",
    "                 \n",
    "data = r.json()\n",
    "data = data['data']\n",
    "\n",
    "df = pd.DataFrame(data)\n",
    "df\n",
    "for i in df.country:\n",
    "    df['country'] = i['name']\n",
    "    \n",
    "    \n",
    "brewery_name = {}\n",
    "brewery_desc = {}\n",
    "established = {}\n",
    "organic = {}\n",
    "status = {}\n",
    "massOwned = {}\n",
    "inBusiness = {}\n",
    "for b in df.brewery:\n",
    "    try:\n",
    "        brewery_name[b['id']] = b['name']\n",
    "        brewery_desc[b['id']] = b['description']\n",
    "        established[b['id']] = b['established']\n",
    "        organic[b['id']] = b['isOrganic']\n",
    "        status[b['id']] = b['status']\n",
    "        massOwned[b['id']] = b['isMassOwned']\n",
    "        inBusiness[b['id']] = b['inBusiness']\n",
    "    except:\n",
    "        continue\n",
    "        \n",
    "df['brewery_name'] = df['breweryId'].map(brewery_name)\n",
    "df['brewery_desc'] = df['breweryId'].map(brewery_desc)\n",
    "df['established'] = df['breweryId'].map(established)\n",
    "df['organic'] = df['breweryId'].map(organic)\n",
    "df['status'] = df['breweryId'].map(status)\n",
    "df['massOwned'] = df['breweryId'].map(massOwned)\n",
    "df['inBusiness'] = df['breweryId'].map(inBusiness)\n",
    "\n",
    "brewery_cols = ['breweryId', 'country', 'countryIsoCode', 'createDate', 'extendedAddress',\n",
    "       'id', 'inPlanning', 'isClosed', 'isPrimary', 'latitude', 'locality', 'locationType', \n",
    "       'locationTypeDisplay', 'longitude', 'name', 'openToPublic', 'phone', 'postalCode', \n",
    "       'region', 'statusDisplay', 'streetAddress', 'timezoneId', 'updateDate', 'website',\n",
    "       'yearOpened', 'brewery_name', 'brewery_desc', 'established', 'organic', 'massOwned', \n",
    "       'inBusiness']\n",
    "\n",
    "final_brewery_df = df[brewery_cols]\n",
    "final_brewery_df = pandleau(final_brewery_df)\n",
    "final_brewery_df.to_tableau(r'\\Users\\MSomma\\Documents\\BreweryDB\\BreweryDB_Example.hyper', add_index=False)\n",
    "\n",
    "tableau_auth = TSC.TableauAuth('Your-Tableau-Online-User-Name-Here',\n",
    "                               'Your-Tableau-Online-Password-Here', site_id = 'Your-Tableau-Site-Name-Here')\n",
    "server = TSC.Server('Your-Server-Address-Here',\n",
    "                    use_server_version=True)\n",
    "server.auth.sign_in(tableau_auth)\n",
    "\n",
    "projectname = 'Breweries in America'\n",
    "print([(project.name, project.id) for project in TSC.Pager(server.projects) if project.name.startswith(projectname)])\n",
    "\n",
    "mydatasourceitem = TSC.DatasourceItem('fcf8d4e0-8028-41e4-96f2-50902996f669',\n",
    "                                      name='Brewery DB')\n",
    "item = server.datasources.publish(mydatasourceitem,\n",
    "                                  r'\\Users\\MSomma\\Documents\\BreweryDB\\BreweryDB.hyper', 'Overwrite')\n",
    "print(\"{} published with id: {}\".format(item.name, item.id))\n",
    "\n",
    "server.auth.sign_out()"
   ]
  }
 ],
 "metadata": {
  "kernelspec": {
   "display_name": "Python 3",
   "language": "python",
   "name": "python3"
  },
  "language_info": {
   "codemirror_mode": {
    "name": "ipython",
    "version": 3
   },
   "file_extension": ".py",
   "mimetype": "text/x-python",
   "name": "python",
   "nbconvert_exporter": "python",
   "pygments_lexer": "ipython3",
   "version": "3.6.5"
  }
 },
 "nbformat": 4,
 "nbformat_minor": 2
}
